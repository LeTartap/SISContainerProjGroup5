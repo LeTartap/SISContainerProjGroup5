{
 "cells": [
  {
   "cell_type": "code",
   "execution_count": 1,
   "outputs": [
    {
     "data": {
      "text/plain": "<folium.folium.Map at 0x1ec0c5467d0>",
      "text/html": "<div style=\"width:100%;\"><div style=\"position:relative;width:100%;height:0;padding-bottom:60%;\"><span style=\"color:#565656\">Make this Notebook Trusted to load map: File -> Trust Notebook</span><iframe srcdoc=\"&lt;!DOCTYPE html&gt;\n&lt;html&gt;\n&lt;head&gt;\n    \n    &lt;meta http-equiv=&quot;content-type&quot; content=&quot;text/html; charset=UTF-8&quot; /&gt;\n    \n        &lt;script&gt;\n            L_NO_TOUCH = false;\n            L_DISABLE_3D = false;\n        &lt;/script&gt;\n    \n    &lt;style&gt;html, body {width: 100%;height: 100%;margin: 0;padding: 0;}&lt;/style&gt;\n    &lt;style&gt;#map {position:absolute;top:0;bottom:0;right:0;left:0;}&lt;/style&gt;\n    &lt;script src=&quot;https://cdn.jsdelivr.net/npm/leaflet@1.9.3/dist/leaflet.js&quot;&gt;&lt;/script&gt;\n    &lt;script src=&quot;https://code.jquery.com/jquery-3.7.1.min.js&quot;&gt;&lt;/script&gt;\n    &lt;script src=&quot;https://cdn.jsdelivr.net/npm/bootstrap@5.2.2/dist/js/bootstrap.bundle.min.js&quot;&gt;&lt;/script&gt;\n    &lt;script src=&quot;https://cdnjs.cloudflare.com/ajax/libs/Leaflet.awesome-markers/2.0.2/leaflet.awesome-markers.js&quot;&gt;&lt;/script&gt;\n    &lt;link rel=&quot;stylesheet&quot; href=&quot;https://cdn.jsdelivr.net/npm/leaflet@1.9.3/dist/leaflet.css&quot;/&gt;\n    &lt;link rel=&quot;stylesheet&quot; href=&quot;https://cdn.jsdelivr.net/npm/bootstrap@5.2.2/dist/css/bootstrap.min.css&quot;/&gt;\n    &lt;link rel=&quot;stylesheet&quot; href=&quot;https://netdna.bootstrapcdn.com/bootstrap/3.0.0/css/bootstrap-glyphicons.css&quot;/&gt;\n    &lt;link rel=&quot;stylesheet&quot; href=&quot;https://cdn.jsdelivr.net/npm/@fortawesome/fontawesome-free@6.2.0/css/all.min.css&quot;/&gt;\n    &lt;link rel=&quot;stylesheet&quot; href=&quot;https://cdnjs.cloudflare.com/ajax/libs/Leaflet.awesome-markers/2.0.2/leaflet.awesome-markers.css&quot;/&gt;\n    &lt;link rel=&quot;stylesheet&quot; href=&quot;https://cdn.jsdelivr.net/gh/python-visualization/folium/folium/templates/leaflet.awesome.rotate.min.css&quot;/&gt;\n    \n            &lt;meta name=&quot;viewport&quot; content=&quot;width=device-width,\n                initial-scale=1.0, maximum-scale=1.0, user-scalable=no&quot; /&gt;\n            &lt;style&gt;\n                #map_5ef907e581ac12f7fb251f146fac8f31 {\n                    position: relative;\n                    width: 100.0%;\n                    height: 100.0%;\n                    left: 0.0%;\n                    top: 0.0%;\n                }\n                .leaflet-container { font-size: 1rem; }\n            &lt;/style&gt;\n        \n&lt;/head&gt;\n&lt;body&gt;\n    \n    \n            &lt;div class=&quot;folium-map&quot; id=&quot;map_5ef907e581ac12f7fb251f146fac8f31&quot; &gt;&lt;/div&gt;\n        \n&lt;/body&gt;\n&lt;script&gt;\n    \n    \n            var map_5ef907e581ac12f7fb251f146fac8f31 = L.map(\n                &quot;map_5ef907e581ac12f7fb251f146fac8f31&quot;,\n                {\n                    center: [52.24105249020619, 6.855237237457045],\n                    crs: L.CRS.EPSG3857,\n                    zoom: 15,\n                    zoomControl: true,\n                    preferCanvas: false,\n                }\n            );\n\n            \n\n        \n    \n            var tile_layer_4e2655b7f10040533768cc9e1de99754 = L.tileLayer(\n                &quot;https://tile.openstreetmap.org/{z}/{x}/{y}.png&quot;,\n                {&quot;attribution&quot;: &quot;\\u0026copy; \\u003ca href=\\&quot;https://www.openstreetmap.org/copyright\\&quot;\\u003eOpenStreetMap\\u003c/a\\u003e contributors&quot;, &quot;detectRetina&quot;: false, &quot;maxNativeZoom&quot;: 19, &quot;maxZoom&quot;: 19, &quot;minZoom&quot;: 0, &quot;noWrap&quot;: false, &quot;opacity&quot;: 1, &quot;subdomains&quot;: &quot;abc&quot;, &quot;tms&quot;: false}\n            );\n        \n    \n            tile_layer_4e2655b7f10040533768cc9e1de99754.addTo(map_5ef907e581ac12f7fb251f146fac8f31);\n        \n    \n            var marker_44296f79b898996a6b2ceb78e6497dae = L.marker(\n                [52.24105249020619, 6.855237237457045],\n                {}\n            ).addTo(map_5ef907e581ac12f7fb251f146fac8f31);\n        \n    \n        var popup_f6577b22bc68715b165b6bab066a2915 = L.popup({&quot;maxWidth&quot;: &quot;100%&quot;});\n\n        \n            \n                var html_2962408f4156b96c4b4c20ab4b1e46a1 = $(`&lt;div id=&quot;html_2962408f4156b96c4b4c20ab4b1e46a1&quot; style=&quot;width: 100.0%; height: 100.0%;&quot;&gt;Longitude: 6.855237237457045, Latitude: 52.24105249020619&lt;/div&gt;`)[0];\n                popup_f6577b22bc68715b165b6bab066a2915.setContent(html_2962408f4156b96c4b4c20ab4b1e46a1);\n            \n        \n\n        marker_44296f79b898996a6b2ceb78e6497dae.bindPopup(popup_f6577b22bc68715b165b6bab066a2915)\n        ;\n\n        \n    \n&lt;/script&gt;\n&lt;/html&gt;\" style=\"position:absolute;width:100%;height:100%;left:0;top:0;border:none !important;\" allowfullscreen webkitallowfullscreen mozallowfullscreen></iframe></div></div>"
     },
     "metadata": {},
     "output_type": "display_data"
    }
   ],
   "source": [
    "import pandas as pd\n",
    "import folium\n",
    "from haversine import haversine, Unit\n",
    "import numpy as np\n",
    "\n",
    "# Load the CSV data into a DataFrame\n",
    "file_path = 'data/ut_contaienr_data/environment_202405221219.csv'  # Update this path\n",
    "df_env = pd.read_csv(file_path)\n",
    "\n",
    "#drop rows with missing values\n",
    "df_env = df_env.dropna(subset=['position_coordinates'])\n",
    "\n",
    "# Extract longitude and latitude from 'position_coordinates'\n",
    "df_env['position_coordinates'] = df_env['position_coordinates'].str.replace(r'[()]', '', regex=True)\n",
    "df_env[['longitude', 'latitude']] = df_env['position_coordinates'].str.split(',', expand=True).astype(float)\n",
    "\n",
    "\n",
    "# Get unique container locations\n",
    "unique_locations = df_env[['longitude', 'latitude']].drop_duplicates()\n",
    "\n",
    "# Function to calculate distance matrix\n",
    "def haversine_distance_matrix(locations):\n",
    "    num_locations = len(locations)\n",
    "    distance_matrix = np.zeros((num_locations, num_locations))\n",
    "    for i in range(num_locations):\n",
    "        for j in range(i + 1, num_locations):\n",
    "            distance = haversine((locations.iloc[i]['latitude'], locations.iloc[i]['longitude']),\n",
    "                                 (locations.iloc[j]['latitude'], locations.iloc[j]['longitude']),\n",
    "                                 unit=Unit.METERS)\n",
    "            distance_matrix[i, j] = distance\n",
    "            distance_matrix[j, i] = distance\n",
    "    return distance_matrix\n",
    "\n",
    "# Calculate the distance matrix for unique locations\n",
    "distance_matrix = haversine_distance_matrix(unique_locations)\n",
    "\n",
    "# Cluster locations within 50 meters\n",
    "tolerance = 50\n",
    "visited = np.zeros(len(unique_locations), dtype=bool)\n",
    "clusters = []\n",
    "\n",
    "for i in range(len(unique_locations)):\n",
    "    if not visited[i]:\n",
    "        cluster = [i]\n",
    "        visited[i] = True\n",
    "        for j in range(i + 1, len(unique_locations)):\n",
    "            if not visited[j] and distance_matrix[i, j] < tolerance:\n",
    "                cluster.append(j)\n",
    "                visited[j] = True\n",
    "        clusters.append(cluster)\n",
    "\n",
    "# Find the representative point for each cluster\n",
    "clustered_locations = []\n",
    "for cluster in clusters:\n",
    "    cluster_points = unique_locations.iloc[cluster]\n",
    "    mean_location = cluster_points.mean()\n",
    "    clustered_locations.append(mean_location)\n",
    "\n",
    "clustered_locations = pd.DataFrame(clustered_locations, columns=['longitude', 'latitude'])\n",
    "\n",
    "# Create a map centered at the first clustered location\n",
    "initial_location = clustered_locations.iloc[0]\n",
    "m = folium.Map(location=[initial_location['latitude'], initial_location['longitude']], zoom_start=15)\n",
    "\n",
    "# Add markers for each clustered location\n",
    "for index, row in clustered_locations.iterrows():\n",
    "    folium.Marker([row['latitude'], row['longitude']], popup=f\"Longitude: {row['longitude']}, Latitude: {row['latitude']}\").add_to(m)\n",
    "\n",
    "# Save the map to an HTML file\n",
    "\n",
    "# Display the map (if running in a Jupyter notebook)\n",
    "display(m)\n",
    "\n"
   ],
   "metadata": {
    "collapsed": false
   }
  }
 ],
 "metadata": {
  "kernelspec": {
   "display_name": "Python 3",
   "language": "python",
   "name": "python3"
  },
  "language_info": {
   "codemirror_mode": {
    "name": "ipython",
    "version": 2
   },
   "file_extension": ".py",
   "mimetype": "text/x-python",
   "name": "python",
   "nbconvert_exporter": "python",
   "pygments_lexer": "ipython2",
   "version": "2.7.6"
  }
 },
 "nbformat": 4,
 "nbformat_minor": 0
}
